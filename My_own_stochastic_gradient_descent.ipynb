{
  "nbformat": 4,
  "nbformat_minor": 0,
  "metadata": {
    "colab": {
      "name": "My_own_stochastic_gradient_descent.ipynb",
      "provenance": [],
      "authorship_tag": "ABX9TyO6+OrlC2DQ0voCmpB/3K7e",
      "include_colab_link": true
    },
    "kernelspec": {
      "name": "python3",
      "display_name": "Python 3"
    },
    "language_info": {
      "name": "python"
    }
  },
  "cells": [
    {
      "cell_type": "markdown",
      "metadata": {
        "id": "view-in-github",
        "colab_type": "text"
      },
      "source": [
        "<a href=\"https://colab.research.google.com/github/omkar123katare/Gradient_Descent/blob/main/My_own_stochastic_gradient_descent.ipynb\" target=\"_parent\"><img src=\"https://colab.research.google.com/assets/colab-badge.svg\" alt=\"Open In Colab\"/></a>"
      ]
    },
    {
      "cell_type": "code",
      "execution_count": null,
      "metadata": {
        "id": "mx0JKOTOaR-W"
      },
      "outputs": [],
      "source": [
        "class stochasticSGDregressor:\n",
        "  def__init__(self,learing_rate=0.01,epochs=100):\n",
        "    self.coef_=None\n",
        "    self.intercept_=None\n",
        "    self.lr=learning_rate\n",
        "    self.epochs=epochs\n",
        "\n",
        "  def fit(self,X_train,y_train):\n",
        "    #initializing the cosfficinets\n",
        "    self.intercept_=0\n",
        "    self.coef_=np.ones(X_train.shape[1])\n",
        "\n",
        "    for i in range(self.epochs):\n",
        "      for j in range(X_train.shape[0]):\n",
        "        idx=np.random.randint(0,X_train.shape[0])\n",
        "        # for finding the vlaue of predicted y value\n",
        "        y_hat=np.dot(self.coef_,X_train[idx])+self.intercept_\n",
        "        # finding the value of β₀\n",
        "        intercept_der=-2*(y_train[idx]-y_hat)\n",
        "        # why did we not divide by n here? because intercept_der has been calculated for a single radom row\n",
        "        self.intercept_=self.intercept_-(self.lr*intercept_der)\n",
        "        # now finding the value of β₁ to βₙ\n",
        "        coef_der=-2*np.dot((y_train[idx]-y_hat),X_train[idx])\n",
        "        self.coef_=self.coef_-(self.lr*coef_der)\n",
        "    print(self.intercept_,self.coef_)\n",
        "  def predict(self,X_test):\n",
        "    return np.dot(X_test,self.coef_)+self.intercept_ \n"
      ]
    },
    {
      "cell_type": "code",
      "source": [
        ""
      ],
      "metadata": {
        "id": "12z3jbH9wLEP"
      },
      "execution_count": null,
      "outputs": []
    }
  ]
}